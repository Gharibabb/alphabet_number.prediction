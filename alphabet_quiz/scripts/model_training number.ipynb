{
 "cells": [
  {
   "cell_type": "code",
   "execution_count": 59,
   "id": "68239407-defa-40b9-a185-ef8783e5f3fa",
   "metadata": {},
   "outputs": [],
   "source": [
    "import numpy as np\n",
    "import tensorflow as tf\n",
    "from bidict import bidict\n",
    "from tensorflow.keras.models import Sequential\n",
    "from tensorflow.keras.layers import Dense, Conv2D, Flatten, MaxPooling2D\n",
    "from tensorflow.keras.utils import to_categorical\n",
    "from sklearn.model_selection import train_test_split"
   ]
  },
  {
   "cell_type": "code",
   "execution_count": 61,
   "id": "a8f8a6de-6a57-4e99-a9fd-f32285ac7a25",
   "metadata": {},
   "outputs": [],
   "source": [
    "ENCODER = bidict({\n",
    "    '0': 0, '1': 1, '2': 2, '3': 3, '4': 4, '5': 5, \n",
    "    '6': 6, '7': 7, '8': 8, '9': 9,\n",
    "    'A': 10, 'B': 11, 'C': 12, 'D': 13, 'E': 14, 'F': 15,\n",
    "    'G': 16, 'H': 17, 'I': 18, 'J': 19, 'K': 20, 'L': 21,\n",
    "    'M': 22, 'N': 23, 'O': 24, 'P': 25, 'Q': 26, 'R': 27,\n",
    "    'S': 28, 'T': 29, 'U': 30, 'V': 31, 'W': 32, 'X': 33,\n",
    "    'Y': 34, 'Z': 35\n",
    "})"
   ]
  },
  {
   "cell_type": "code",
   "execution_count": 55,
   "id": "2cabaf72",
   "metadata": {},
   "outputs": [],
   "source": [
    "data = np.loadtxt('../data/mnist_train.csv', delimiter=',')\n",
    "labels = data[:, 0]\n",
    "images = data[:, 1:]"
   ]
  },
  {
   "cell_type": "code",
   "execution_count": 56,
   "id": "9f2659b6",
   "metadata": {},
   "outputs": [],
   "source": [
    "images = images / 255.0"
   ]
  },
  {
   "cell_type": "code",
   "execution_count": 57,
   "id": "5c967471",
   "metadata": {},
   "outputs": [],
   "source": [
    "images = images.reshape(-1, 28, 28, 1)"
   ]
  },
  {
   "cell_type": "code",
   "execution_count": 63,
   "id": "a7b35519",
   "metadata": {},
   "outputs": [
    {
     "data": {
      "text/plain": [
       "array([[0., 0., 0., ..., 0., 0., 0.],\n",
       "       [1., 0., 0., ..., 0., 0., 0.],\n",
       "       [0., 0., 0., ..., 0., 0., 0.],\n",
       "       ...,\n",
       "       [0., 0., 0., ..., 0., 0., 0.],\n",
       "       [0., 0., 0., ..., 0., 0., 0.],\n",
       "       [0., 0., 0., ..., 0., 1., 0.]], dtype=float32)"
      ]
     },
     "execution_count": 63,
     "metadata": {},
     "output_type": "execute_result"
    }
   ],
   "source": [
    "labels_encoded = to_categorical(labels)\n",
    "labels_encoded"
   ]
  },
  {
   "cell_type": "code",
   "execution_count": 64,
   "id": "6aba59d4",
   "metadata": {},
   "outputs": [],
   "source": [
    "X_train, X_val, y_train, y_val = train_test_split(images, labels_encoded, test_size=0.2, random_state=42)"
   ]
  },
  {
   "cell_type": "code",
   "execution_count": 65,
   "id": "85791c7b",
   "metadata": {},
   "outputs": [],
   "source": [
    "model = Sequential([\n",
    "    Conv2D(32, (3,3), activation='relu', input_shape=(28, 28, 1)),\n",
    "    MaxPooling2D(2, 2),\n",
    "    Conv2D(64, (3,3), activation='relu'),\n",
    "    MaxPooling2D(2, 2),\n",
    "    Flatten(),\n",
    "    Dense(128, activation='relu'),\n",
    "    Dense(10, activation='softmax')\n",
    "])"
   ]
  },
  {
   "cell_type": "code",
   "execution_count": 66,
   "id": "52dbb97b",
   "metadata": {},
   "outputs": [],
   "source": [
    "model.compile(optimizer='adam', loss='categorical_crossentropy', metrics=['accuracy'])"
   ]
  },
  {
   "cell_type": "code",
   "execution_count": 67,
   "id": "a4222491",
   "metadata": {},
   "outputs": [
    {
     "name": "stdout",
     "output_type": "stream",
     "text": [
      "Epoch 1/10\n",
      "1500/1500 [==============================] - 34s 17ms/step - loss: 0.1459 - accuracy: 0.9555 - val_loss: 0.0539 - val_accuracy: 0.9843\n",
      "Epoch 2/10\n",
      "1500/1500 [==============================] - 26s 18ms/step - loss: 0.0481 - accuracy: 0.9849 - val_loss: 0.0403 - val_accuracy: 0.9882\n",
      "Epoch 3/10\n",
      "1500/1500 [==============================] - 24s 16ms/step - loss: 0.0291 - accuracy: 0.9908 - val_loss: 0.0381 - val_accuracy: 0.9895\n",
      "Epoch 4/10\n",
      "1500/1500 [==============================] - 25s 17ms/step - loss: 0.0228 - accuracy: 0.9925 - val_loss: 0.0389 - val_accuracy: 0.9900\n",
      "Epoch 5/10\n",
      "1500/1500 [==============================] - 25s 17ms/step - loss: 0.0153 - accuracy: 0.9951 - val_loss: 0.0529 - val_accuracy: 0.9857\n",
      "Epoch 6/10\n",
      "1500/1500 [==============================] - 25s 17ms/step - loss: 0.0132 - accuracy: 0.9955 - val_loss: 0.0420 - val_accuracy: 0.9904\n",
      "Epoch 7/10\n",
      "1500/1500 [==============================] - 25s 17ms/step - loss: 0.0101 - accuracy: 0.9966 - val_loss: 0.0644 - val_accuracy: 0.9840\n",
      "Epoch 8/10\n",
      "1500/1500 [==============================] - 25s 17ms/step - loss: 0.0079 - accuracy: 0.9976 - val_loss: 0.0591 - val_accuracy: 0.9855\n",
      "Epoch 9/10\n",
      "1500/1500 [==============================] - 26s 18ms/step - loss: 0.0070 - accuracy: 0.9977 - val_loss: 0.0464 - val_accuracy: 0.9901\n",
      "Epoch 10/10\n",
      "1500/1500 [==============================] - 26s 17ms/step - loss: 0.0059 - accuracy: 0.9982 - val_loss: 0.0557 - val_accuracy: 0.9877\n"
     ]
    },
    {
     "data": {
      "text/plain": [
       "<keras.src.callbacks.History at 0x1d810abb9d0>"
      ]
     },
     "execution_count": 67,
     "metadata": {},
     "output_type": "execute_result"
    }
   ],
   "source": [
    "model.fit(X_train, y_train, validation_data=(X_val, y_val), epochs=10, batch_size=32)"
   ]
  },
  {
   "cell_type": "code",
   "execution_count": 68,
   "id": "2fa88396-45f2-436c-b8c9-ac45646358a4",
   "metadata": {},
   "outputs": [
    {
     "name": "stdout",
     "output_type": "stream",
     "text": [
      "INFO:tensorflow:Assets written to: ../chiffre.model\\assets\n"
     ]
    },
    {
     "name": "stderr",
     "output_type": "stream",
     "text": [
      "INFO:tensorflow:Assets written to: ../chiffre.model\\assets\n"
     ]
    }
   ],
   "source": [
    "model.save('../chiffre.model')"
   ]
  }
 ],
 "metadata": {
  "kernelspec": {
   "display_name": "Python 3 (ipykernel)",
   "language": "python",
   "name": "python3"
  },
  "language_info": {
   "codemirror_mode": {
    "name": "ipython",
    "version": 3
   },
   "file_extension": ".py",
   "mimetype": "text/x-python",
   "name": "python",
   "nbconvert_exporter": "python",
   "pygments_lexer": "ipython3",
   "version": "3.11.3"
  },
  "vscode": {
   "interpreter": {
    "hash": "48ba4ec2b1a99314971048b2a8b9dac02a35e70c3aec2d577ec93634bb992eec"
   }
  }
 },
 "nbformat": 4,
 "nbformat_minor": 5
}
